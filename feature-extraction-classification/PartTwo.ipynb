{
 "cells": [
  {
   "cell_type": "code",
   "execution_count": 3,
   "metadata": {},
   "outputs": [],
   "source": [
    "import pandas as pd\n",
    "import re\n",
    "import nltk\n",
    "from nltk.tokenize import word_tokenize\n",
    "from nltk.stem import WordNetLemmatizer\n",
    "from nltk.corpus import stopwords\n",
    "\n",
    "from sklearn.feature_extraction.text import TfidfVectorizer\n",
    "from sklearn.model_selection import train_test_split\n",
    "from sklearn.ensemble import RandomForestClassifier\n",
    "from sklearn.svm import SVC\n",
    "from sklearn.linear_model import RidgeClassifier\n",
    "from sklearn.metrics import classification_report, f1_score\n"
   ]
  },
  {
   "cell_type": "code",
   "execution_count": 4,
   "metadata": {},
   "outputs": [
    {
     "data": {
      "text/html": [
       "<div>\n",
       "<style scoped>\n",
       "    .dataframe tbody tr th:only-of-type {\n",
       "        vertical-align: middle;\n",
       "    }\n",
       "\n",
       "    .dataframe tbody tr th {\n",
       "        vertical-align: top;\n",
       "    }\n",
       "\n",
       "    .dataframe thead th {\n",
       "        text-align: right;\n",
       "    }\n",
       "</style>\n",
       "<table border=\"1\" class=\"dataframe\">\n",
       "  <thead>\n",
       "    <tr style=\"text-align: right;\">\n",
       "      <th></th>\n",
       "      <th>speech</th>\n",
       "      <th>party</th>\n",
       "      <th>constituency</th>\n",
       "      <th>date</th>\n",
       "      <th>speech_class</th>\n",
       "      <th>major_heading</th>\n",
       "      <th>year</th>\n",
       "      <th>speakername</th>\n",
       "    </tr>\n",
       "  </thead>\n",
       "  <tbody>\n",
       "    <tr>\n",
       "      <th>0</th>\n",
       "      <td>Unemployment is soaring, uptake in benefits ha...</td>\n",
       "      <td>Labour</td>\n",
       "      <td>Portsmouth South</td>\n",
       "      <td>2020-09-14</td>\n",
       "      <td>Speech</td>\n",
       "      <td>Work and Pensions</td>\n",
       "      <td>2020</td>\n",
       "      <td>Stephen Morgan</td>\n",
       "    </tr>\n",
       "    <tr>\n",
       "      <th>1</th>\n",
       "      <td>I thank the hon. Gentleman for raising issues ...</td>\n",
       "      <td>Conservative</td>\n",
       "      <td>Mid Sussex</td>\n",
       "      <td>2020-09-14</td>\n",
       "      <td>Speech</td>\n",
       "      <td>Work and Pensions</td>\n",
       "      <td>2020</td>\n",
       "      <td>Mims Davies</td>\n",
       "    </tr>\n",
       "    <tr>\n",
       "      <th>2</th>\n",
       "      <td>As my hon. Friend the Member for Portsmouth So...</td>\n",
       "      <td>Labour</td>\n",
       "      <td>Warwick and Leamington</td>\n",
       "      <td>2020-09-14</td>\n",
       "      <td>Speech</td>\n",
       "      <td>Work and Pensions</td>\n",
       "      <td>2020</td>\n",
       "      <td>Matt Western</td>\n",
       "    </tr>\n",
       "    <tr>\n",
       "      <th>3</th>\n",
       "      <td>I thank the hon. Gentleman for raising the nee...</td>\n",
       "      <td>Conservative</td>\n",
       "      <td>Mid Sussex</td>\n",
       "      <td>2020-09-14</td>\n",
       "      <td>Speech</td>\n",
       "      <td>Work and Pensions</td>\n",
       "      <td>2020</td>\n",
       "      <td>Mims Davies</td>\n",
       "    </tr>\n",
       "    <tr>\n",
       "      <th>4</th>\n",
       "      <td>There is no doubt that the unemployment situat...</td>\n",
       "      <td>Labour</td>\n",
       "      <td>Ellesmere Port and Neston</td>\n",
       "      <td>2020-09-14</td>\n",
       "      <td>Speech</td>\n",
       "      <td>Work and Pensions</td>\n",
       "      <td>2020</td>\n",
       "      <td>Justin Madders</td>\n",
       "    </tr>\n",
       "  </tbody>\n",
       "</table>\n",
       "</div>"
      ],
      "text/plain": [
       "                                              speech         party  \\\n",
       "0  Unemployment is soaring, uptake in benefits ha...        Labour   \n",
       "1  I thank the hon. Gentleman for raising issues ...  Conservative   \n",
       "2  As my hon. Friend the Member for Portsmouth So...        Labour   \n",
       "3  I thank the hon. Gentleman for raising the nee...  Conservative   \n",
       "4  There is no doubt that the unemployment situat...        Labour   \n",
       "\n",
       "                constituency        date speech_class      major_heading  \\\n",
       "0           Portsmouth South  2020-09-14       Speech  Work and Pensions   \n",
       "1                 Mid Sussex  2020-09-14       Speech  Work and Pensions   \n",
       "2     Warwick and Leamington  2020-09-14       Speech  Work and Pensions   \n",
       "3                 Mid Sussex  2020-09-14       Speech  Work and Pensions   \n",
       "4  Ellesmere Port and Neston  2020-09-14       Speech  Work and Pensions   \n",
       "\n",
       "   year     speakername  \n",
       "0  2020  Stephen Morgan  \n",
       "1  2020     Mims Davies  \n",
       "2  2020    Matt Western  \n",
       "3  2020     Mims Davies  \n",
       "4  2020  Justin Madders  "
      ]
     },
     "execution_count": 4,
     "metadata": {},
     "output_type": "execute_result"
    }
   ],
   "source": [
    "def read_file(path: str):\n",
    "    return pd.read_csv(path)\n",
    "\n",
    "df = pd.read_csv(r'C:\\Users\\tayyi\\nlp-github-classroom-test-tayyib-saddique\\feature-extraction-classification\\hansard40000.csv')\n",
    "df.head()"
   ]
  },
  {
   "cell_type": "code",
   "execution_count": 5,
   "metadata": {},
   "outputs": [
    {
     "data": {
      "text/plain": [
       "(6476, 8)"
      ]
     },
     "execution_count": 5,
     "metadata": {},
     "output_type": "execute_result"
    }
   ],
   "source": [
    "def pre_processing(df: pd.DataFrame) -> pd.DataFrame:\n",
    "    df['party'] = df['party'].replace('Labour (Co-op)', 'Labour')\n",
    "    \n",
    "    major_parties = df['party'].value_counts().drop('Speaker').nlargest(4).index\n",
    "\n",
    "    df = df.loc[(df['party'].isin(major_parties)) & (df['speech_class'] == 'Speech') & (df['speech'].str.len() >= 1500)]\n",
    "    return df\n",
    "\n",
    "df = pre_processing(df)\n",
    "df.shape"
   ]
  },
  {
   "cell_type": "code",
   "execution_count": 6,
   "metadata": {},
   "outputs": [
    {
     "data": {
      "text/html": [
       "<div>\n",
       "<style scoped>\n",
       "    .dataframe tbody tr th:only-of-type {\n",
       "        vertical-align: middle;\n",
       "    }\n",
       "\n",
       "    .dataframe tbody tr th {\n",
       "        vertical-align: top;\n",
       "    }\n",
       "\n",
       "    .dataframe thead th {\n",
       "        text-align: right;\n",
       "    }\n",
       "</style>\n",
       "<table border=\"1\" class=\"dataframe\">\n",
       "  <thead>\n",
       "    <tr style=\"text-align: right;\">\n",
       "      <th></th>\n",
       "      <th>speech</th>\n",
       "      <th>party</th>\n",
       "      <th>constituency</th>\n",
       "      <th>date</th>\n",
       "      <th>speech_class</th>\n",
       "      <th>major_heading</th>\n",
       "      <th>year</th>\n",
       "      <th>speakername</th>\n",
       "    </tr>\n",
       "  </thead>\n",
       "  <tbody>\n",
       "    <tr>\n",
       "      <th>99</th>\n",
       "      <td>I am delighted to announce that last Friday we...</td>\n",
       "      <td>Conservative</td>\n",
       "      <td>South West Norfolk</td>\n",
       "      <td>2020-09-14</td>\n",
       "      <td>Speech</td>\n",
       "      <td>Japan Free Trade Agreement</td>\n",
       "      <td>2020</td>\n",
       "      <td>Elizabeth Truss</td>\n",
       "    </tr>\n",
       "    <tr>\n",
       "      <th>100</th>\n",
       "      <td>I thank the Secretary of State for advance sig...</td>\n",
       "      <td>Labour</td>\n",
       "      <td>Islington South and Finsbury</td>\n",
       "      <td>2020-09-14</td>\n",
       "      <td>Speech</td>\n",
       "      <td>Japan Free Trade Agreement</td>\n",
       "      <td>2020</td>\n",
       "      <td>Emily Thornberry</td>\n",
       "    </tr>\n",
       "    <tr>\n",
       "      <th>101</th>\n",
       "      <td>After the right hon. Lady’s congratulations to...</td>\n",
       "      <td>Conservative</td>\n",
       "      <td>South West Norfolk</td>\n",
       "      <td>2020-09-14</td>\n",
       "      <td>Speech</td>\n",
       "      <td>Japan Free Trade Agreement</td>\n",
       "      <td>2020</td>\n",
       "      <td>Elizabeth Truss</td>\n",
       "    </tr>\n",
       "    <tr>\n",
       "      <th>104</th>\n",
       "      <td>I congratulate the Secretary of State. I recog...</td>\n",
       "      <td>Scottish National Party</td>\n",
       "      <td>Dundee East</td>\n",
       "      <td>2020-09-14</td>\n",
       "      <td>Speech</td>\n",
       "      <td>Japan Free Trade Agreement</td>\n",
       "      <td>2020</td>\n",
       "      <td>Stewart Hosie</td>\n",
       "    </tr>\n",
       "    <tr>\n",
       "      <th>188</th>\n",
       "      <td>I beg to move, That the Bill be now read a Sec...</td>\n",
       "      <td>Conservative</td>\n",
       "      <td>Uxbridge and South Ruislip</td>\n",
       "      <td>2020-09-14</td>\n",
       "      <td>Speech</td>\n",
       "      <td>United Kingdom Internal Market Bill</td>\n",
       "      <td>2020</td>\n",
       "      <td>Boris Johnson</td>\n",
       "    </tr>\n",
       "  </tbody>\n",
       "</table>\n",
       "</div>"
      ],
      "text/plain": [
       "                                                speech  \\\n",
       "99   I am delighted to announce that last Friday we...   \n",
       "100  I thank the Secretary of State for advance sig...   \n",
       "101  After the right hon. Lady’s congratulations to...   \n",
       "104  I congratulate the Secretary of State. I recog...   \n",
       "188  I beg to move, That the Bill be now read a Sec...   \n",
       "\n",
       "                       party                  constituency        date  \\\n",
       "99              Conservative            South West Norfolk  2020-09-14   \n",
       "100                   Labour  Islington South and Finsbury  2020-09-14   \n",
       "101             Conservative            South West Norfolk  2020-09-14   \n",
       "104  Scottish National Party                   Dundee East  2020-09-14   \n",
       "188             Conservative    Uxbridge and South Ruislip  2020-09-14   \n",
       "\n",
       "    speech_class                        major_heading  year       speakername  \n",
       "99        Speech           Japan Free Trade Agreement  2020   Elizabeth Truss  \n",
       "100       Speech           Japan Free Trade Agreement  2020  Emily Thornberry  \n",
       "101       Speech           Japan Free Trade Agreement  2020   Elizabeth Truss  \n",
       "104       Speech           Japan Free Trade Agreement  2020     Stewart Hosie  \n",
       "188       Speech  United Kingdom Internal Market Bill  2020     Boris Johnson  "
      ]
     },
     "execution_count": 6,
     "metadata": {},
     "output_type": "execute_result"
    }
   ],
   "source": [
    "df.head()"
   ]
  },
  {
   "cell_type": "markdown",
   "metadata": {},
   "source": [
    "Vectorising speeches and splitting data"
   ]
  },
  {
   "cell_type": "code",
   "execution_count": 7,
   "metadata": {},
   "outputs": [
    {
     "name": "stdout",
     "output_type": "stream",
     "text": [
      "((5180, 4000), (1296, 4000), (5180,), (1296,))\n"
     ]
    }
   ],
   "source": [
    "vectoriser = TfidfVectorizer(stop_words='english', max_features=4000)\n",
    "X = vectoriser.fit_transform(df['speech'])\n",
    "\n",
    "X_train, X_test, y_train, y_test = train_test_split(X, df['party'], \n",
    "                                                    test_size = 0.2, \n",
    "                                                    stratify=df['party'], \n",
    "                                                    random_state=99)\n",
    "print((X_train.shape, X_test.shape, y_train.shape, y_test.shape))\n"
   ]
  },
  {
   "cell_type": "markdown",
   "metadata": {},
   "source": [
    "Classification "
   ]
  },
  {
   "cell_type": "code",
   "execution_count": 8,
   "metadata": {},
   "outputs": [],
   "source": [
    "classifiers = {\n",
    "    'Random Forest': RandomForestClassifier(n_estimators=400),\n",
    "    'Support Vector Machine': SVC(kernel='linear'),\n",
    "    'Ridge Classifier' : RidgeClassifier(tol=1e-2, solver=\"sparse_cg\")\n",
    "\n",
    "}\n",
    "\n",
    "def classification(classifiers, X_train, X_test, y_train, y_test):\n",
    "    for name, clf in classifiers.items():\n",
    "        clf.fit(X_train, y_train)\n",
    "        y_pred = clf.predict(X_test)\n",
    "        f1 = f1_score(y_test, y_pred, average = 'macro')\n",
    "        print(f\"{name}:\")\n",
    "        print(f'Macro-average F1 score: {f1}')\n",
    "        print(classification_report(y_test, y_pred, zero_division=0))\n"
   ]
  },
  {
   "cell_type": "code",
   "execution_count": 9,
   "metadata": {},
   "outputs": [
    {
     "name": "stdout",
     "output_type": "stream",
     "text": [
      "Random Forest:\n",
      "Macro-average F1 score: 0.4521366378118\n",
      "                         precision    recall  f1-score   support\n",
      "\n",
      "           Conservative       0.70      0.98      0.82       732\n",
      "                 Labour       0.80      0.49      0.61       402\n",
      "       Liberal Democrat       0.00      0.00      0.00        50\n",
      "Scottish National Party       0.96      0.24      0.39       112\n",
      "\n",
      "               accuracy                           0.72      1296\n",
      "              macro avg       0.62      0.43      0.45      1296\n",
      "           weighted avg       0.73      0.72      0.68      1296\n",
      "\n",
      "Support Vector Machine:\n",
      "Macro-average F1 score: 0.623665641562648\n",
      "                         precision    recall  f1-score   support\n",
      "\n",
      "           Conservative       0.83      0.93      0.88       732\n",
      "                 Labour       0.76      0.75      0.75       402\n",
      "       Liberal Democrat       0.86      0.12      0.21        50\n",
      "Scottish National Party       0.86      0.53      0.65       112\n",
      "\n",
      "               accuracy                           0.81      1296\n",
      "              macro avg       0.83      0.58      0.62      1296\n",
      "           weighted avg       0.81      0.81      0.79      1296\n",
      "\n",
      "Ridge Classifier:\n",
      "Macro-average F1 score: 0.6442071676973944\n",
      "                         precision    recall  f1-score   support\n",
      "\n",
      "           Conservative       0.84      0.94      0.89       732\n",
      "                 Labour       0.77      0.78      0.77       402\n",
      "       Liberal Democrat       0.90      0.18      0.30        50\n",
      "Scottish National Party       0.86      0.48      0.62       112\n",
      "\n",
      "               accuracy                           0.82      1296\n",
      "              macro avg       0.84      0.59      0.64      1296\n",
      "           weighted avg       0.82      0.82      0.81      1296\n",
      "\n"
     ]
    }
   ],
   "source": [
    "classification(classifiers, X_train, X_test, y_train, y_test)\n"
   ]
  },
  {
   "cell_type": "markdown",
   "metadata": {},
   "source": [
    "Adjusting parameters when vectorising data"
   ]
  },
  {
   "cell_type": "code",
   "execution_count": 10,
   "metadata": {},
   "outputs": [
    {
     "name": "stdout",
     "output_type": "stream",
     "text": [
      "((5180, 4000), (1296, 4000), (5180,), (1296,))\n",
      "Random Forest:\n",
      "Macro-average F1 score: 0.502443180647742\n",
      "                         precision    recall  f1-score   support\n",
      "\n",
      "           Conservative       0.73      0.97      0.83       732\n",
      "                 Labour       0.80      0.54      0.64       402\n",
      "       Liberal Democrat       0.50      0.02      0.04        50\n",
      "Scottish National Party       0.87      0.35      0.50       112\n",
      "\n",
      "               accuracy                           0.75      1296\n",
      "              macro avg       0.72      0.47      0.50      1296\n",
      "           weighted avg       0.75      0.75      0.71      1296\n",
      "\n",
      "Support Vector Machine:\n",
      "Macro-average F1 score: 0.6213503717843876\n",
      "                         precision    recall  f1-score   support\n",
      "\n",
      "           Conservative       0.84      0.94      0.89       732\n",
      "                 Labour       0.79      0.78      0.78       402\n",
      "       Liberal Democrat       1.00      0.06      0.11        50\n",
      "Scottish National Party       0.87      0.59      0.70       112\n",
      "\n",
      "               accuracy                           0.83      1296\n",
      "              macro avg       0.87      0.59      0.62      1296\n",
      "           weighted avg       0.83      0.83      0.81      1296\n",
      "\n",
      "Ridge Classifier:\n",
      "Macro-average F1 score: 0.6575919395348697\n",
      "                         precision    recall  f1-score   support\n",
      "\n",
      "           Conservative       0.85      0.94      0.89       732\n",
      "                 Labour       0.79      0.80      0.80       402\n",
      "       Liberal Democrat       0.88      0.14      0.24        50\n",
      "Scottish National Party       0.86      0.59      0.70       112\n",
      "\n",
      "               accuracy                           0.83      1296\n",
      "              macro avg       0.84      0.62      0.66      1296\n",
      "           weighted avg       0.84      0.83      0.82      1296\n",
      "\n"
     ]
    }
   ],
   "source": [
    "vectoriser = TfidfVectorizer(stop_words='english', max_features=4000, ngram_range=(1, 3))\n",
    "X = vectoriser.fit_transform(df['speech'])\n",
    "\n",
    "X_train, X_test, y_train, y_test = train_test_split(X, df['party'], \n",
    "                                                    test_size = 0.2, \n",
    "                                                    stratify=df['party'], \n",
    "                                                    random_state=99)\n",
    "print((X_train.shape, X_test.shape, y_train.shape, y_test.shape))\n",
    "\n",
    "classification(classifiers, X_train, X_test, y_train, y_test)\n"
   ]
  },
  {
   "cell_type": "markdown",
   "metadata": {},
   "source": [
    "Implementing custom tokenizer "
   ]
  },
  {
   "cell_type": "code",
   "execution_count": 11,
   "metadata": {},
   "outputs": [
    {
     "name": "stderr",
     "output_type": "stream",
     "text": [
      "[nltk_data] Downloading package wordnet to\n",
      "[nltk_data]     C:\\Users\\tayyi\\AppData\\Roaming\\nltk_data...\n",
      "[nltk_data]   Package wordnet is already up-to-date!\n"
     ]
    },
    {
     "data": {
      "text/plain": [
       "True"
      ]
     },
     "execution_count": 11,
     "metadata": {},
     "output_type": "execute_result"
    }
   ],
   "source": [
    "nltk.download('wordnet')\n"
   ]
  },
  {
   "cell_type": "code",
   "execution_count": 13,
   "metadata": {},
   "outputs": [
    {
     "name": "stderr",
     "output_type": "stream",
     "text": [
      "C:\\Users\\tayyi\\AppData\\Roaming\\Python\\Python311\\site-packages\\sklearn\\feature_extraction\\text.py:528: UserWarning: The parameter 'token_pattern' will not be used since 'tokenizer' is not None'\n",
      "  warnings.warn(\n"
     ]
    },
    {
     "name": "stdout",
     "output_type": "stream",
     "text": [
      "((5180, 4000), (1296, 4000), (5180,), (1296,))\n",
      "Random Forest:\n",
      "Macro-average F1 score: 0.5110425375960589\n",
      "                         precision    recall  f1-score   support\n",
      "\n",
      "           Conservative       0.73      0.98      0.84       732\n",
      "                 Labour       0.82      0.55      0.66       402\n",
      "       Liberal Democrat       0.50      0.04      0.07        50\n",
      "Scottish National Party       0.86      0.33      0.48       112\n",
      "\n",
      "               accuracy                           0.75      1296\n",
      "              macro avg       0.73      0.47      0.51      1296\n",
      "           weighted avg       0.76      0.75      0.72      1296\n",
      "\n",
      "Support Vector Machine:\n",
      "Macro-average F1 score: 0.6220906234540804\n",
      "                         precision    recall  f1-score   support\n",
      "\n",
      "           Conservative       0.84      0.95      0.89       732\n",
      "                 Labour       0.80      0.77      0.78       402\n",
      "       Liberal Democrat       1.00      0.06      0.11        50\n",
      "Scottish National Party       0.85      0.60      0.70       112\n",
      "\n",
      "               accuracy                           0.83      1296\n",
      "              macro avg       0.87      0.59      0.62      1296\n",
      "           weighted avg       0.83      0.83      0.81      1296\n",
      "\n",
      "Ridge Classifier:\n",
      "Macro-average F1 score: 0.6365134773702066\n",
      "                         precision    recall  f1-score   support\n",
      "\n",
      "           Conservative       0.85      0.95      0.90       732\n",
      "                 Labour       0.79      0.79      0.79       402\n",
      "       Liberal Democrat       0.75      0.12      0.21        50\n",
      "Scottish National Party       0.82      0.54      0.66       112\n",
      "\n",
      "               accuracy                           0.83      1296\n",
      "              macro avg       0.80      0.60      0.64      1296\n",
      "           weighted avg       0.83      0.83      0.81      1296\n",
      "\n"
     ]
    }
   ],
   "source": [
    "def custom_tokenizer(text):\n",
    "    # Converting text to lowercase\n",
    "    text = text.lower()\n",
    "    \n",
    "    # Tokenization\n",
    "    tokens = word_tokenize(text)\n",
    "    \n",
    "    # Remove punctuation\n",
    "    tokens = [re.sub(r'[^\\w\\s]', '', token) for token in tokens if re.sub(r'[^\\w\\s]', '', token)]\n",
    "    \n",
    "    # Remove stopwords\n",
    "    stop_words = set(stopwords.words('english'))\n",
    "    tokens = [word for word in tokens if word not in stop_words]\n",
    "    \n",
    "    # Lemmatization\n",
    "    lemmatizer = WordNetLemmatizer()\n",
    "    tokens = [lemmatizer.lemmatize(word) for word in tokens]\n",
    "\n",
    "    return tokens\n",
    "\n",
    "\n",
    "vectoriser = TfidfVectorizer(tokenizer=custom_tokenizer, max_features=4000, ngram_range=(1, 3))\n",
    "X = vectoriser.fit_transform(df['speech'])\n",
    "\n",
    "X_train, X_test, y_train, y_test = train_test_split(X, df['party'], \n",
    "                                                    test_size = 0.2, \n",
    "                                                    stratify=df['party'], \n",
    "                                                    random_state=99)\n",
    "\n",
    "print((X_train.shape, X_test.shape, y_train.shape, y_test.shape))\n",
    "\n",
    "classification(classifiers, X_train, X_test, y_train, y_test)\n"
   ]
  }
 ],
 "metadata": {
  "kernelspec": {
   "display_name": "Python 3",
   "language": "python",
   "name": "python3"
  },
  "language_info": {
   "codemirror_mode": {
    "name": "ipython",
    "version": 3
   },
   "file_extension": ".py",
   "mimetype": "text/x-python",
   "name": "python",
   "nbconvert_exporter": "python",
   "pygments_lexer": "ipython3",
   "version": "3.11.1"
  }
 },
 "nbformat": 4,
 "nbformat_minor": 2
}
